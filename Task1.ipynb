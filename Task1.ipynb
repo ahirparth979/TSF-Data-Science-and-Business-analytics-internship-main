{
  "nbformat": 4,
  "nbformat_minor": 5,
  "metadata": {
    "kernelspec": {
      "display_name": "Python 3",
      "language": "python",
      "name": "python3"
    },
    "language_info": {
      "codemirror_mode": {
        "name": "ipython",
        "version": 3
      },
      "file_extension": ".py",
      "mimetype": "text/x-python",
      "name": "python",
      "nbconvert_exporter": "python",
      "pygments_lexer": "ipython3",
      "version": "3.8.8"
    },
    "colab": {
      "name": "Task1.ipynb",
      "provenance": []
    }
  },
  "cells": [
    {
      "cell_type": "markdown",
      "metadata": {
        "id": "lesser-thomas"
      },
      "source": [
        "### THE SPARKS FOUNDATION May'21"
      ],
      "id": "lesser-thomas"
    },
    {
      "cell_type": "markdown",
      "metadata": {
        "id": "dying-organ"
      },
      "source": [
        "# Author: Parth Ahir"
      ],
      "id": "dying-organ"
    },
    {
      "cell_type": "markdown",
      "metadata": {
        "id": "eight-cooking"
      },
      "source": [
        "### Task1: Predict the percentage of a student based on the no. of study hours."
      ],
      "id": "eight-cooking"
    },
    {
      "cell_type": "code",
      "metadata": {
        "id": "italian-tomato"
      },
      "source": [
        "#Importing all the required Libraries\n",
        "import pandas as pd\n",
        "import numpy as np\n",
        "import seaborn as sns\n",
        "import matplotlib.pyplot as plt"
      ],
      "id": "italian-tomato",
      "execution_count": 1,
      "outputs": []
    },
    {
      "cell_type": "code",
      "metadata": {
        "id": "associate-italy"
      },
      "source": [
        "#Reading the Dataset\n",
        "df = pd.read_csv('http://bit.ly/w-data')"
      ],
      "id": "associate-italy",
      "execution_count": 2,
      "outputs": []
    },
    {
      "cell_type": "code",
      "metadata": {
        "colab": {
          "base_uri": "https://localhost:8080/",
          "height": 206
        },
        "id": "eligible-undergraduate",
        "outputId": "3b6b8c76-fa7d-4c30-937b-45c163f53fb7"
      },
      "source": [
        "df.head()"
      ],
      "id": "eligible-undergraduate",
      "execution_count": 3,
      "outputs": [
        {
          "output_type": "execute_result",
          "data": {
            "text/html": [
              "<div>\n",
              "<style scoped>\n",
              "    .dataframe tbody tr th:only-of-type {\n",
              "        vertical-align: middle;\n",
              "    }\n",
              "\n",
              "    .dataframe tbody tr th {\n",
              "        vertical-align: top;\n",
              "    }\n",
              "\n",
              "    .dataframe thead th {\n",
              "        text-align: right;\n",
              "    }\n",
              "</style>\n",
              "<table border=\"1\" class=\"dataframe\">\n",
              "  <thead>\n",
              "    <tr style=\"text-align: right;\">\n",
              "      <th></th>\n",
              "      <th>Hours</th>\n",
              "      <th>Scores</th>\n",
              "    </tr>\n",
              "  </thead>\n",
              "  <tbody>\n",
              "    <tr>\n",
              "      <th>0</th>\n",
              "      <td>2.5</td>\n",
              "      <td>21</td>\n",
              "    </tr>\n",
              "    <tr>\n",
              "      <th>1</th>\n",
              "      <td>5.1</td>\n",
              "      <td>47</td>\n",
              "    </tr>\n",
              "    <tr>\n",
              "      <th>2</th>\n",
              "      <td>3.2</td>\n",
              "      <td>27</td>\n",
              "    </tr>\n",
              "    <tr>\n",
              "      <th>3</th>\n",
              "      <td>8.5</td>\n",
              "      <td>75</td>\n",
              "    </tr>\n",
              "    <tr>\n",
              "      <th>4</th>\n",
              "      <td>3.5</td>\n",
              "      <td>30</td>\n",
              "    </tr>\n",
              "  </tbody>\n",
              "</table>\n",
              "</div>"
            ],
            "text/plain": [
              "   Hours  Scores\n",
              "0    2.5      21\n",
              "1    5.1      47\n",
              "2    3.2      27\n",
              "3    8.5      75\n",
              "4    3.5      30"
            ]
          },
          "metadata": {
            "tags": []
          },
          "execution_count": 3
        }
      ]
    },
    {
      "cell_type": "code",
      "metadata": {
        "colab": {
          "base_uri": "https://localhost:8080/"
        },
        "id": "union-starter",
        "outputId": "66ca405f-b06a-4327-8b9c-eb26e22cef8f"
      },
      "source": [
        "df.shape"
      ],
      "id": "union-starter",
      "execution_count": 4,
      "outputs": [
        {
          "output_type": "execute_result",
          "data": {
            "text/plain": [
              "(25, 2)"
            ]
          },
          "metadata": {
            "tags": []
          },
          "execution_count": 4
        }
      ]
    },
    {
      "cell_type": "markdown",
      "metadata": {
        "id": "partial-bunny"
      },
      "source": [
        "### 1. Data Visualization"
      ],
      "id": "partial-bunny"
    },
    {
      "cell_type": "code",
      "metadata": {
        "colab": {
          "base_uri": "https://localhost:8080/",
          "height": 513
        },
        "id": "dangerous-cosmetic",
        "outputId": "de5df142-cd14-4e7e-c084-6f5dc07c4d18"
      },
      "source": [
        "plt.figure(figsize=(10,8))\n",
        "plt.title('Study hours VS Scores')\n",
        "sns.scatterplot(x = 'Scores' , y = 'Hours', data =df)\n",
        "plt.show()"
      ],
      "id": "dangerous-cosmetic",
      "execution_count": 5,
      "outputs": [
        {
          "output_type": "display_data",
          "data": {
            "image/png": "[encoded data removed]",
            "text/plain": [
              "<Figure size 720x576 with 1 Axes>"
            ]
          },
          "metadata": {
            "tags": [],
            "needs_background": "light"
          }
        }
      ]
    },
    {
      "cell_type": "markdown",
      "metadata": {
        "id": "blank-corruption"
      },
      "source": [
        "Number of Hours increases Score is also increases so that the relation between Hours and Score(percentage) is Positive"
      ],
      "id": "blank-corruption"
    },
    {
      "cell_type": "markdown",
      "metadata": {
        "id": "characteristic-advance"
      },
      "source": [
        "Relationship between Hours and Scores"
      ],
      "id": "characteristic-advance"
    },
    {
      "cell_type": "code",
      "metadata": {
        "scrolled": true,
        "colab": {
          "base_uri": "https://localhost:8080/",
          "height": 112
        },
        "id": "adverse-explanation",
        "outputId": "d1cc8a15-24ba-4c0c-ab16-caff6d6216ed"
      },
      "source": [
        "df.corr()"
      ],
      "id": "adverse-explanation",
      "execution_count": 6,
      "outputs": [
        {
          "output_type": "execute_result",
          "data": {
            "text/html": [
              "<div>\n",
              "<style scoped>\n",
              "    .dataframe tbody tr th:only-of-type {\n",
              "        vertical-align: middle;\n",
              "    }\n",
              "\n",
              "    .dataframe tbody tr th {\n",
              "        vertical-align: top;\n",
              "    }\n",
              "\n",
              "    .dataframe thead th {\n",
              "        text-align: right;\n",
              "    }\n",
              "</style>\n",
              "<table border=\"1\" class=\"dataframe\">\n",
              "  <thead>\n",
              "    <tr style=\"text-align: right;\">\n",
              "      <th></th>\n",
              "      <th>Hours</th>\n",
              "      <th>Scores</th>\n",
              "    </tr>\n",
              "  </thead>\n",
              "  <tbody>\n",
              "    <tr>\n",
              "      <th>Hours</th>\n",
              "      <td>1.000000</td>\n",
              "      <td>0.976191</td>\n",
              "    </tr>\n",
              "    <tr>\n",
              "      <th>Scores</th>\n",
              "      <td>0.976191</td>\n",
              "      <td>1.000000</td>\n",
              "    </tr>\n",
              "  </tbody>\n",
              "</table>\n",
              "</div>"
            ],
            "text/plain": [
              "           Hours    Scores\n",
              "Hours   1.000000  0.976191\n",
              "Scores  0.976191  1.000000"
            ]
          },
          "metadata": {
            "tags": []
          },
          "execution_count": 6
        }
      ]
    },
    {
      "cell_type": "code",
      "metadata": {
        "colab": {
          "base_uri": "https://localhost:8080/",
          "height": 252
        },
        "id": "copyrighted-corpus",
        "outputId": "533486b6-82cd-480a-84fa-b62076191052"
      },
      "source": [
        "sns.boxplot(data = df , y = df['Hours'])\n",
        "plt.show()"
      ],
      "id": "copyrighted-corpus",
      "execution_count": 7,
      "outputs": [
        {
          "output_type": "display_data",
          "data": {
            "image/png": "[encoded data removed]",
            "text/plain": [
              "<Figure size 432x288 with 1 Axes>"
            ]
          },
          "metadata": {
            "tags": [],
            "needs_background": "light"
          }
        }
      ]
    },
    {
      "cell_type": "markdown",
      "metadata": {
        "id": "moral-permit"
      },
      "source": [
        "### 2.Data Preparation"
      ],
      "id": "moral-permit"
    },
    {
      "cell_type": "code",
      "metadata": {
        "id": "fabulous-studio"
      },
      "source": [
        "X = df.iloc[:, :-1].values  \n",
        "y = df.iloc[:, 1].values  "
      ],
      "id": "fabulous-studio",
      "execution_count": 8,
      "outputs": []
    },
    {
      "cell_type": "markdown",
      "metadata": {
        "id": "united-ridge"
      },
      "source": [
        "### 3.Train Test Split"
      ],
      "id": "united-ridge"
    },
    {
      "cell_type": "markdown",
      "metadata": {
        "id": "registered-toner"
      },
      "source": [
        "we will split the dataset into 75% training and 25% testing set."
      ],
      "id": "registered-toner"
    },
    {
      "cell_type": "code",
      "metadata": {
        "id": "positive-workstation"
      },
      "source": [
        "from sklearn.model_selection import train_test_split"
      ],
      "id": "positive-workstation",
      "execution_count": 9,
      "outputs": []
    },
    {
      "cell_type": "code",
      "metadata": {
        "id": "alert-setup"
      },
      "source": [
        "X_train, X_test, y_train, y_test = train_test_split(X, y, test_size=0.80, random_state=5)"
      ],
      "id": "alert-setup",
      "execution_count": 10,
      "outputs": []
    },
    {
      "cell_type": "markdown",
      "metadata": {
        "id": "cardiovascular-turkish"
      },
      "source": [
        "### 4. Model Building"
      ],
      "id": "cardiovascular-turkish"
    },
    {
      "cell_type": "code",
      "metadata": {
        "id": "fixed-module"
      },
      "source": [
        "from sklearn.linear_model import LinearRegression\n",
        "model=LinearRegression()"
      ],
      "id": "fixed-module",
      "execution_count": 11,
      "outputs": []
    },
    {
      "cell_type": "code",
      "metadata": {
        "colab": {
          "base_uri": "https://localhost:8080/"
        },
        "id": "minor-chair",
        "outputId": "499245fa-2a7a-4909-83a1-72191e2ae0eb"
      },
      "source": [
        "model.fit(X_train, y_train)"
      ],
      "id": "minor-chair",
      "execution_count": 12,
      "outputs": [
        {
          "output_type": "execute_result",
          "data": {
            "text/plain": [
              "LinearRegression(copy_X=True, fit_intercept=True, n_jobs=None, normalize=False)"
            ]
          },
          "metadata": {
            "tags": []
          },
          "execution_count": 12
        }
      ]
    },
    {
      "cell_type": "code",
      "metadata": {
        "id": "rotary-sword"
      },
      "source": [
        "reg = model.coef_*X+model.intercept_"
      ],
      "id": "rotary-sword",
      "execution_count": 13,
      "outputs": []
    },
    {
      "cell_type": "code",
      "metadata": {
        "colab": {
          "base_uri": "https://localhost:8080/",
          "height": 390
        },
        "id": "searching-relationship",
        "outputId": "148710a2-db6f-4b8d-96b4-aa8eb54f68ed"
      },
      "source": [
        "plt.figure(figsize= (8,6))\n",
        "plt.scatter(X, y)\n",
        "plt.title('Regression Line')\n",
        "plt.plot(X, reg, color = 'r');\n",
        "plt.show()"
      ],
      "id": "searching-relationship",
      "execution_count": 14,
      "outputs": [
        {
          "output_type": "display_data",
          "data": {
            "image/png": "[encoded data removed]",
            "text/plain": [
              "<Figure size 576x432 with 1 Axes>"
            ]
          },
          "metadata": {
            "tags": [],
            "needs_background": "light"
          }
        }
      ]
    },
    {
      "cell_type": "markdown",
      "metadata": {
        "id": "sticky-longer"
      },
      "source": [
        "### 5.Predictions and Model Evaluations"
      ],
      "id": "sticky-longer"
    },
    {
      "cell_type": "code",
      "metadata": {
        "id": "spanish-louisiana"
      },
      "source": [
        "predictions = model.predict(X_test)"
      ],
      "id": "spanish-louisiana",
      "execution_count": 15,
      "outputs": []
    },
    {
      "cell_type": "code",
      "metadata": {
        "colab": {
          "base_uri": "https://localhost:8080/"
        },
        "id": "pharmaceutical-driving",
        "outputId": "8ad6dbbd-e7a3-4a84-b013-2b884eae5e5c"
      },
      "source": [
        "predictions[:5]"
      ],
      "id": "pharmaceutical-driving",
      "execution_count": 16,
      "outputs": [
        {
          "output_type": "execute_result",
          "data": {
            "text/plain": [
              "array([73.10060178, 61.53385008, 35.73109628, 75.76985217, 49.96709838])"
            ]
          },
          "metadata": {
            "tags": []
          },
          "execution_count": 16
        }
      ]
    },
    {
      "cell_type": "code",
      "metadata": {
        "colab": {
          "base_uri": "https://localhost:8080/"
        },
        "id": "arranged-rhythm",
        "outputId": "90fa7c66-af95-4ea9-fa97-29d8b55bf38a"
      },
      "source": [
        "y_test[:5]"
      ],
      "id": "arranged-rhythm",
      "execution_count": 17,
      "outputs": [
        {
          "output_type": "execute_result",
          "data": {
            "text/plain": [
              "array([69, 67, 27, 85, 54])"
            ]
          },
          "metadata": {
            "tags": []
          },
          "execution_count": 17
        }
      ]
    },
    {
      "cell_type": "code",
      "metadata": {
        "id": "exposed-dance"
      },
      "source": [
        "pred_df = pd.DataFrame({'True_Values': y_test, 'Predicted': predictions})  "
      ],
      "id": "exposed-dance",
      "execution_count": 18,
      "outputs": []
    },
    {
      "cell_type": "code",
      "metadata": {
        "colab": {
          "base_uri": "https://localhost:8080/",
          "height": 499
        },
        "id": "directed-greek",
        "outputId": "ec6651c4-d7b6-478c-b45e-261a93e28d0a"
      },
      "source": [
        "plt.figure(figsize= (10,8))\n",
        "plt.title('True Values VS Predictions')\n",
        "sns.lineplot(data = pred_df)\n",
        "plt.show()"
      ],
      "id": "directed-greek",
      "execution_count": 19,
      "outputs": [
        {
          "output_type": "display_data",
          "data": {
            "image/png": "[encoded data removed]",
            "text/plain": [
              "<Figure size 720x576 with 1 Axes>"
            ]
          },
          "metadata": {
            "tags": [],
            "needs_background": "light"
          }
        }
      ]
    },
    {
      "cell_type": "code",
      "metadata": {
        "id": "empty-shipping"
      },
      "source": [
        "from sklearn.metrics import mean_squared_error ,mean_absolute_error"
      ],
      "id": "empty-shipping",
      "execution_count": 20,
      "outputs": []
    },
    {
      "cell_type": "code",
      "metadata": {
        "colab": {
          "base_uri": "https://localhost:8080/"
        },
        "id": "loaded-humidity",
        "outputId": "bb0119d7-f5f1-4576-8bf9-87680ceabf1a"
      },
      "source": [
        "print('MAE:', mean_absolute_error(y_test, predictions))\n",
        "print('MSE:', mean_squared_error(y_test, predictions))\n",
        "print('RMSE:', np.sqrt(mean_squared_error(y_test, predictions)))"
      ],
      "id": "loaded-humidity",
      "execution_count": 21,
      "outputs": [
        {
          "output_type": "stream",
          "text": [
            "MAE: 5.151430860805863\n",
            "MSE: 35.336530978693766\n",
            "RMSE: 5.944453799862\n"
          ],
          "name": "stdout"
        }
      ]
    },
    {
      "cell_type": "code",
      "metadata": {
        "colab": {
          "base_uri": "https://localhost:8080/"
        },
        "id": "mechanical-concept",
        "outputId": "a0004269-9ea7-4f28-f0cd-8bfd698c3647"
      },
      "source": [
        "#checking accuracy of the model on test dataset\n",
        "print('Model Accuracy:',model.score(X_test, y_test))"
      ],
      "id": "mechanical-concept",
      "execution_count": 22,
      "outputs": [
        {
          "output_type": "stream",
          "text": [
            "Model Accuracy: 0.9278978739033775\n"
          ],
          "name": "stdout"
        }
      ]
    },
    {
      "cell_type": "markdown",
      "metadata": {
        "id": "subjective-physics"
      },
      "source": [
        "### 6.Predict the score if a student studies for 10 hours/day\n"
      ],
      "id": "subjective-physics"
    },
    {
      "cell_type": "code",
      "metadata": {
        "colab": {
          "base_uri": "https://localhost:8080/"
        },
        "id": "ordered-control",
        "outputId": "0df33208-2950-47d1-bb1b-631a137b5e9b"
      },
      "source": [
        "def predict(hours):\n",
        "    pred_score=model.predict(hours)\n",
        "    return round(pred_score[0],2)\n",
        "print('Predicted Score is:',predict([[10]]))"
      ],
      "id": "ordered-control",
      "execution_count": 23,
      "outputs": [
        {
          "output_type": "stream",
          "text": [
            "Predicted Score is: 96.23\n"
          ],
          "name": "stdout"
        }
      ]
    }
  ]
}